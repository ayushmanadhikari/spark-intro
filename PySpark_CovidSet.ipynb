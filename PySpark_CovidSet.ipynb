{
 "cells": [
  {
   "cell_type": "code",
   "execution_count": 2,
   "id": "9e480439",
   "metadata": {},
   "outputs": [
    {
     "name": "stderr",
     "output_type": "stream",
     "text": [
      "22/06/15 09:23:50 WARN Utils: Your hostname, Ayushmans-MacBook-Air.local resolves to a loopback address: 127.0.0.1; using 192.168.1.69 instead (on interface en0)\n",
      "22/06/15 09:23:50 WARN Utils: Set SPARK_LOCAL_IP if you need to bind to another address\n",
      "Using Spark's default log4j profile: org/apache/spark/log4j-defaults.properties\n",
      "Setting default log level to \"WARN\".\n",
      "To adjust logging level use sc.setLogLevel(newLevel). For SparkR, use setLogLevel(newLevel).\n",
      "22/06/15 09:23:50 WARN NativeCodeLoader: Unable to load native-hadoop library for your platform... using builtin-java classes where applicable\n"
     ]
    }
   ],
   "source": [
    "from pyspark.sql import SparkSession\n",
    "spark = SparkSession.builder.appName('new_session').getOrCreate()"
   ]
  },
  {
   "cell_type": "code",
   "execution_count": 18,
   "id": "a96739e9",
   "metadata": {},
   "outputs": [],
   "source": [
    "#reading from csv file\n",
    "cases = spark.read.load('archive/case.csv', format='csv', sep=',', header='true', inferSchema='true')"
   ]
  },
  {
   "cell_type": "code",
   "execution_count": 23,
   "id": "2e5e7751",
   "metadata": {},
   "outputs": [
    {
     "name": "stdout",
     "output_type": "stream",
     "text": [
      "+--------+--------+---------------+---------+\n",
      "| case_id|province|           city|confirmed|\n",
      "+--------+--------+---------------+---------+\n",
      "| 1000001|   Seoul|     Yongsan-gu|      139|\n",
      "| 1000002|   Seoul|      Gwanak-gu|      119|\n",
      "| 1000003|   Seoul|        Guro-gu|       95|\n",
      "| 1000004|   Seoul|   Yangcheon-gu|       43|\n",
      "| 1000005|   Seoul|      Dobong-gu|       43|\n",
      "| 1000006|   Seoul|        Guro-gu|       41|\n",
      "| 1000007|   Seoul|from other city|       36|\n",
      "| 1000008|   Seoul|  Dongdaemun-gu|       17|\n",
      "| 1000009|   Seoul|from other city|       25|\n",
      "| 1000010|   Seoul|      Gwanak-gu|       30|\n",
      "| 1000011|   Seoul|   Eunpyeong-gu|       14|\n",
      "| 1000012|   Seoul|   Seongdong-gu|       13|\n",
      "| 1000013|   Seoul|      Jongno-gu|       10|\n",
      "| 1000014|   Seoul|     Gangnam-gu|        7|\n",
      "| 1000015|   Seoul|        Jung-gu|        7|\n",
      "| 1000016|   Seoul|   Seodaemun-gu|        5|\n",
      "| 1000017|   Seoul|      Jongno-gu|        7|\n",
      "| 1000018|   Seoul|     Gangnam-gu|        6|\n",
      "| 1000019|   Seoul|from other city|        1|\n",
      "| 1000020|   Seoul|   Geumcheon-gu|        6|\n",
      "+--------+--------+---------------+---------+\n",
      "only showing top 20 rows\n",
      "\n"
     ]
    }
   ],
   "source": [
    "#selecting required columns\n",
    "cases = cases.select(' case_id','province', 'city', 'confirmed')\n",
    "cases.show()"
   ]
  },
  {
   "cell_type": "code",
   "execution_count": 33,
   "id": "528dc5b2",
   "metadata": {},
   "outputs": [
    {
     "name": "stdout",
     "output_type": "stream",
     "text": [
      "+--------+--------+---------------+-----+--------------------+---------+---------+----------+\n",
      "| case_id|province|           city|group|    infection_source|confirmed| latitude| longitude|\n",
      "+--------+--------+---------------+-----+--------------------+---------+---------+----------+\n",
      "| 1000001|   Seoul|     Yongsan-gu| true|       Itaewon Clubs|      139|37.538621|126.992652|\n",
      "| 1000002|   Seoul|      Gwanak-gu| true|             Richway|      119| 37.48208|126.901384|\n",
      "| 1000003|   Seoul|        Guro-gu| true| Guro-gu Call Center|       95|37.508163|126.884387|\n",
      "| 1000004|   Seoul|   Yangcheon-gu| true|Yangcheon Table T...|       43|37.546061|126.874209|\n",
      "| 1000005|   Seoul|      Dobong-gu| true|     Day Care Center|       43|37.679422|127.044374|\n",
      "| 1000006|   Seoul|        Guro-gu| true|Manmin Central Ch...|       41|37.481059|126.894343|\n",
      "| 1000007|   Seoul|from other city| true|SMR Newly Planted...|       36|        -|         -|\n",
      "| 1000008|   Seoul|  Dongdaemun-gu| true|       Dongan Church|       17|37.592888|127.056766|\n",
      "| 1000009|   Seoul|from other city| true|Coupang Logistics...|       25|        -|         -|\n",
      "| 1000010|   Seoul|      Gwanak-gu| true|     Wangsung Church|       30|37.481735|126.930121|\n",
      "| 1000011|   Seoul|   Eunpyeong-gu| true|Eunpyeong St. Mar...|       14| 37.63369|  126.9165|\n",
      "| 1000012|   Seoul|   Seongdong-gu| true|    Seongdong-gu APT|       13| 37.55713|  127.0403|\n",
      "| 1000013|   Seoul|      Jongno-gu| true|Jongno Community ...|       10| 37.57681|   127.006|\n",
      "| 1000014|   Seoul|     Gangnam-gu| true|Samsung Medical C...|        7| 37.48825| 127.08559|\n",
      "| 1000015|   Seoul|        Jung-gu| true|Jung-gu Fashion C...|        7|37.562405|126.984377|\n",
      "| 1000016|   Seoul|   Seodaemun-gu| true|  Yeonana News Class|        5|37.558147|126.943799|\n",
      "| 1000017|   Seoul|      Jongno-gu| true|Korea Campus Crus...|        7|37.594782|126.968022|\n",
      "| 1000018|   Seoul|     Gangnam-gu| true|Gangnam Yeoksam-d...|        6|        -|         -|\n",
      "| 1000019|   Seoul|from other city| true|Daejeon door-to-d...|        1|        -|         -|\n",
      "| 1000020|   Seoul|   Geumcheon-gu| true|Geumcheon-gu rice...|        6|        -|         -|\n",
      "+--------+--------+---------------+-----+--------------------+---------+---------+----------+\n",
      "only showing top 20 rows\n",
      "\n"
     ]
    }
   ],
   "source": [
    "#renaming columns\n",
    "cases1 = spark.read.csv('archive/case.csv', sep=',', header='true', inferSchema='true')\n",
    "cases1 = cases1.withColumnRenamed('infection_case', 'infection_source')\n",
    "cases1.show()"
   ]
  },
  {
   "cell_type": "code",
   "execution_count": 24,
   "id": "bd43a3fd",
   "metadata": {},
   "outputs": [
    {
     "name": "stdout",
     "output_type": "stream",
     "text": [
      "+--------+-----------------+---------------+---------+\n",
      "| case_id|         province|           city|confirmed|\n",
      "+--------+-----------------+---------------+---------+\n",
      "| 1200001|            Daegu|         Nam-gu|     4511|\n",
      "| 1200009|            Daegu|              -|      917|\n",
      "| 1200010|            Daegu|              -|      747|\n",
      "| 6000001| Gyeongsangbuk-do|from other city|      566|\n",
      "| 2000020|      Gyeonggi-do|              -|      305|\n",
      "| 1000036|            Seoul|              -|      298|\n",
      "| 1200002|            Daegu|   Dalseong-gun|      196|\n",
      "| 6000012| Gyeongsangbuk-do|              -|      190|\n",
      "| 1000037|            Seoul|              -|      162|\n",
      "| 1000001|            Seoul|     Yongsan-gu|      139|\n",
      "| 6000013| Gyeongsangbuk-do|              -|      133|\n",
      "| 1200003|            Daegu|         Seo-gu|      124|\n",
      "| 1000002|            Seoul|      Gwanak-gu|      119|\n",
      "| 6000002| Gyeongsangbuk-do|   Cheongdo-gun|      119|\n",
      "| 4100001|Chungcheongnam-do|     Cheonan-si|      103|\n",
      "| 1200004|            Daegu|   Dalseong-gun|      101|\n",
      "| 1000038|            Seoul|              -|      100|\n",
      "| 1000003|            Seoul|        Guro-gu|       95|\n",
      "| 2000022|      Gyeonggi-do|              -|       84|\n",
      "| 1400005|          Incheon|              -|       68|\n",
      "+--------+-----------------+---------------+---------+\n",
      "only showing top 20 rows\n",
      "\n"
     ]
    }
   ],
   "source": [
    "#sorting\n",
    "from pyspark.sql import functions as F\n",
    "cases.sort(F.desc('confirmed')).show()"
   ]
  },
  {
   "cell_type": "code",
   "execution_count": 25,
   "id": "723f57a0",
   "metadata": {},
   "outputs": [
    {
     "name": "stdout",
     "output_type": "stream",
     "text": [
      "+--------+--------+---------------+---------+\n",
      "| case_id|province|           city|confirmed|\n",
      "+--------+--------+---------------+---------+\n",
      "| 1000001|   Seoul|     Yongsan-gu|      139|\n",
      "| 1000002|   Seoul|      Gwanak-gu|      119|\n",
      "| 1000003|   Seoul|        Guro-gu|       95|\n",
      "| 1000004|   Seoul|   Yangcheon-gu|       43|\n",
      "| 1000005|   Seoul|      Dobong-gu|       43|\n",
      "| 1000006|   Seoul|        Guro-gu|       41|\n",
      "| 1000007|   Seoul|from other city|       36|\n",
      "| 1000008|   Seoul|  Dongdaemun-gu|       17|\n",
      "| 1000009|   Seoul|from other city|       25|\n",
      "| 1000010|   Seoul|      Gwanak-gu|       30|\n",
      "| 1000011|   Seoul|   Eunpyeong-gu|       14|\n",
      "| 1000012|   Seoul|   Seongdong-gu|       13|\n",
      "| 1000013|   Seoul|      Jongno-gu|       10|\n",
      "| 1000014|   Seoul|     Gangnam-gu|        7|\n",
      "| 1000015|   Seoul|        Jung-gu|        7|\n",
      "| 1000016|   Seoul|   Seodaemun-gu|        5|\n",
      "| 1000017|   Seoul|      Jongno-gu|        7|\n",
      "| 1000018|   Seoul|     Gangnam-gu|        6|\n",
      "| 1000019|   Seoul|from other city|        1|\n",
      "| 1000020|   Seoul|   Geumcheon-gu|        6|\n",
      "+--------+--------+---------------+---------+\n",
      "only showing top 20 rows\n",
      "\n"
     ]
    }
   ],
   "source": [
    "#cast function is used for type conversions\n",
    "from pyspark.sql.types import DoubleType, IntegerType, StringType\n",
    "\n",
    "cases = cases.withColumn('confirmed', F.col('confirmed').cast(IntegerType()))\n",
    "cases = cases.withColumn('city', F.col('city').cast(StringType()))\n",
    "cases.show()"
   ]
  },
  {
   "cell_type": "code",
   "execution_count": 36,
   "id": "2d3c8db1",
   "metadata": {},
   "outputs": [
    {
     "name": "stdout",
     "output_type": "stream",
     "text": [
      "+--------+--------+------------+---------+\n",
      "| case_id|province|        city|confirmed|\n",
      "+--------+--------+------------+---------+\n",
      "| 1200001|   Daegu|      Nam-gu|     4511|\n",
      "| 1200002|   Daegu|Dalseong-gun|      196|\n",
      "| 1200003|   Daegu|      Seo-gu|      124|\n",
      "| 1200004|   Daegu|Dalseong-gun|      101|\n",
      "| 1200005|   Daegu|     Dong-gu|       39|\n",
      "| 1200008|   Daegu|           -|       41|\n",
      "| 1200009|   Daegu|           -|      917|\n",
      "| 1200010|   Daegu|           -|      747|\n",
      "+--------+--------+------------+---------+\n",
      "\n"
     ]
    }
   ],
   "source": [
    "#filter \n",
    "#filter different infection_case in Daegu Province with more than 10 confirmed cases\n",
    "cases.filter((cases.confirmed>10) & (cases.province=='Daegu')).show()"
   ]
  },
  {
   "cell_type": "code",
   "execution_count": 37,
   "id": "d82e322c",
   "metadata": {},
   "outputs": [
    {
     "name": "stdout",
     "output_type": "stream",
     "text": [
      "+----------------+---------------+--------------+--------------+\n",
      "|        province|           city|sum(confirmed)|max(confirmed)|\n",
      "+----------------+---------------+--------------+--------------+\n",
      "|Gyeongsangnam-do|       Jinju-si|             9|             9|\n",
      "|           Seoul|        Guro-gu|           139|            95|\n",
      "|           Seoul|     Gangnam-gu|            18|             7|\n",
      "|         Daejeon|              -|           100|            55|\n",
      "|    Jeollabuk-do|from other city|             6|             3|\n",
      "|Gyeongsangnam-do|Changnyeong-gun|             7|             7|\n",
      "|           Seoul|              -|           561|           298|\n",
      "|         Jeju-do|from other city|             1|             1|\n",
      "|Gyeongsangbuk-do|              -|           345|           190|\n",
      "|Gyeongsangnam-do|   Geochang-gun|            18|            10|\n",
      "|Gyeongsangbuk-do|        Gumi-si|            10|            10|\n",
      "|         Incheon|from other city|           117|            53|\n",
      "|           Busan|              -|            85|            36|\n",
      "|           Daegu|         Seo-gu|           124|           124|\n",
      "|           Busan|     Suyeong-gu|             5|             5|\n",
      "|     Gyeonggi-do|   Uijeongbu-si|            50|            50|\n",
      "|           Seoul|     Yongsan-gu|           139|           139|\n",
      "|           Daegu|              -|          1705|           917|\n",
      "|           Seoul|   Seodaemun-gu|             5|             5|\n",
      "|     Gyeonggi-do|    Seongnam-si|            94|            67|\n",
      "+----------------+---------------+--------------+--------------+\n",
      "only showing top 20 rows\n",
      "\n"
     ]
    }
   ],
   "source": [
    "#groupby\n",
    "from pyspark.sql import functions as F\n",
    "cases.groupBy(['province', 'city']).agg(F.sum('confirmed'), F.max('confirmed')).show()"
   ]
  },
  {
   "cell_type": "code",
   "execution_count": 42,
   "id": "2d9c6db1",
   "metadata": {},
   "outputs": [
    {
     "name": "stdout",
     "output_type": "stream",
     "text": [
      "+----------------+---------------+--------------+---------------------------+\n",
      "|        province|           city|sum(confirmed)|CAST(avg(confirmed) AS INT)|\n",
      "+----------------+---------------+--------------+---------------------------+\n",
      "|Gyeongsangnam-do|       Jinju-si|             9|                          9|\n",
      "|           Seoul|        Guro-gu|           139|                         46|\n",
      "|           Seoul|     Gangnam-gu|            18|                          4|\n",
      "|         Daejeon|              -|           100|                         25|\n",
      "|    Jeollabuk-do|from other city|             6|                          2|\n",
      "|Gyeongsangnam-do|Changnyeong-gun|             7|                          7|\n",
      "|           Seoul|              -|           561|                        140|\n",
      "|         Jeju-do|from other city|             1|                          1|\n",
      "|Gyeongsangbuk-do|              -|           345|                        115|\n",
      "|Gyeongsangnam-do|   Geochang-gun|            18|                          9|\n",
      "|Gyeongsangbuk-do|        Gumi-si|            10|                         10|\n",
      "|         Incheon|from other city|           117|                         29|\n",
      "|           Busan|              -|            85|                         28|\n",
      "|           Daegu|         Seo-gu|           124|                        124|\n",
      "|           Busan|     Suyeong-gu|             5|                          5|\n",
      "|     Gyeonggi-do|   Uijeongbu-si|            50|                         50|\n",
      "|           Seoul|     Yongsan-gu|           139|                        139|\n",
      "|           Daegu|              -|          1705|                        568|\n",
      "|           Seoul|   Seodaemun-gu|             5|                          5|\n",
      "|     Gyeonggi-do|    Seongnam-si|            94|                         31|\n",
      "+----------------+---------------+--------------+---------------------------+\n",
      "only showing top 20 rows\n",
      "\n"
     ]
    }
   ],
   "source": [
    "cases.groupBy(['province', 'city']).agg(F.sum('confirmed'), F.mean('confirmed').cast(IntegerType())).show()"
   ]
  },
  {
   "cell_type": "code",
   "execution_count": 47,
   "id": "9db4e1e2",
   "metadata": {},
   "outputs": [
    {
     "name": "stdout",
     "output_type": "stream",
     "text": [
      "+---------------+--------------+\n",
      "|           city|totalConfirmed|\n",
      "+---------------+--------------+\n",
      "|     Gangnam-gu|            18|\n",
      "|     Cheonan-si|           103|\n",
      "|from other city|          1217|\n",
      "|      Anyang-si|            39|\n",
      "|      Gwanak-gu|           149|\n",
      "|     Yongsan-gu|           139|\n",
      "|        Dong-gu|            44|\n",
      "|         Sejong|            39|\n",
      "|     Gangseo-gu|             0|\n",
      "|       Wonju-si|             4|\n",
      "|     Suyeong-gu|             5|\n",
      "|   Geochang-gun|            18|\n",
      "|  Dongdaemun-gu|            17|\n",
      "|     Dongnae-gu|            39|\n",
      "|         Jin-gu|             4|\n",
      "|     Yangsan-si|             3|\n",
      "|    Changwon-si|             7|\n",
      "|         Nam-gu|          4511|\n",
      "|   Gyeongsan-si|            99|\n",
      "|      Jongno-gu|            17|\n",
      "+---------------+--------------+\n",
      "only showing top 20 rows\n",
      "\n"
     ]
    }
   ],
   "source": [
    "cases.groupBy(['city']).agg(F.sum('confirmed').alias('totalConfirmed')).show()"
   ]
  },
  {
   "cell_type": "markdown",
   "id": "022a11a5",
   "metadata": {},
   "source": [
    "#### Joins"
   ]
  },
  {
   "cell_type": "code",
   "execution_count": 55,
   "id": "28301002",
   "metadata": {},
   "outputs": [
    {
     "name": "stdout",
     "output_type": "stream",
     "text": [
      "+--------+---------------+--------+---------+-----+---------+----------+-----------------------+------------------+----------------+-------------+------------------------+-------------------+------------------+\n",
      "|province|           city| case_id|confirmed| code| latitude| longitude|elementary_school_count|kindergarten_count|university_count|academy_ratio|elderly_population_ratio|elderly_alone_ratio|nursing_home_count|\n",
      "+--------+---------------+--------+---------+-----+---------+----------+-----------------------+------------------+----------------+-------------+------------------------+-------------------+------------------+\n",
      "|   Seoul|     Yongsan-gu| 1000001|      139|10210|37.532768|126.990021|                     15|                13|               1|         0.68|                   16.87|                6.5|               435|\n",
      "|   Seoul|      Gwanak-gu| 1000002|      119|10050| 37.47829|126.951502|                     22|                33|               1|         0.89|                   15.12|                4.9|               909|\n",
      "|   Seoul|        Guro-gu| 1000003|       95|10070|37.495632| 126.88765|                     26|                34|               3|          1.0|                   16.21|                5.7|               741|\n",
      "|   Seoul|   Yangcheon-gu| 1000004|       43|10190|37.517189|126.866618|                     30|                43|               0|         2.26|                   13.55|                5.5|               816|\n",
      "|   Seoul|      Dobong-gu| 1000005|       43|10100|37.668952|127.047082|                     23|                26|               1|         0.95|                   17.89|                7.2|               485|\n",
      "|   Seoul|        Guro-gu| 1000006|       41|10070|37.495632| 126.88765|                     26|                34|               3|          1.0|                   16.21|                5.7|               741|\n",
      "|   Seoul|from other city| 1000007|       36| null|     null|      null|                   null|              null|            null|         null|                    null|               null|              null|\n",
      "|   Seoul|  Dongdaemun-gu| 1000008|       17|10110|37.574552|127.039721|                     21|                31|               4|         1.06|                   17.26|                6.7|               832|\n",
      "|   Seoul|from other city| 1000009|       25| null|     null|      null|                   null|              null|            null|         null|                    null|               null|              null|\n",
      "|   Seoul|      Gwanak-gu| 1000010|       30|10050| 37.47829|126.951502|                     22|                33|               1|         0.89|                   15.12|                4.9|               909|\n",
      "+--------+---------------+--------+---------+-----+---------+----------+-----------------------+------------------+----------------+-------------+------------------------+-------------------+------------------+\n",
      "only showing top 10 rows\n",
      "\n"
     ]
    }
   ],
   "source": [
    "regions = spark.read.csv('archive/Region.csv', sep=',', header='true', inferSchema='true')\n",
    "\n",
    "cases = cases.join(regions, ['province', 'city'], how='left')\n",
    "cases.show(10)"
   ]
  },
  {
   "cell_type": "code",
   "execution_count": null,
   "id": "77458e5d",
   "metadata": {},
   "outputs": [],
   "source": []
  }
 ],
 "metadata": {
  "kernelspec": {
   "display_name": "Python 3 (ipykernel)",
   "language": "python",
   "name": "python3"
  },
  "language_info": {
   "codemirror_mode": {
    "name": "ipython",
    "version": 3
   },
   "file_extension": ".py",
   "mimetype": "text/x-python",
   "name": "python",
   "nbconvert_exporter": "python",
   "pygments_lexer": "ipython3",
   "version": "3.9.10"
  }
 },
 "nbformat": 4,
 "nbformat_minor": 5
}
