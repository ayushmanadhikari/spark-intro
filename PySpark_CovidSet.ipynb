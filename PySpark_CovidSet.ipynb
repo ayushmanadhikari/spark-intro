{
 "cells": [
  {
   "cell_type": "code",
   "execution_count": 2,
   "id": "66a24927",
   "metadata": {},
   "outputs": [
    {
     "name": "stderr",
     "output_type": "stream",
     "text": [
      "22/06/15 09:23:50 WARN Utils: Your hostname, Ayushmans-MacBook-Air.local resolves to a loopback address: 127.0.0.1; using 192.168.1.69 instead (on interface en0)\n",
      "22/06/15 09:23:50 WARN Utils: Set SPARK_LOCAL_IP if you need to bind to another address\n",
      "Using Spark's default log4j profile: org/apache/spark/log4j-defaults.properties\n",
      "Setting default log level to \"WARN\".\n",
      "To adjust logging level use sc.setLogLevel(newLevel). For SparkR, use setLogLevel(newLevel).\n",
      "22/06/15 09:23:50 WARN NativeCodeLoader: Unable to load native-hadoop library for your platform... using builtin-java classes where applicable\n"
     ]
    }
   ],
   "source": [
    "from pyspark.sql import SparkSession\n",
    "spark = SparkSession.builder.appName('new_session').getOrCreate()"
   ]
  },
  {
   "cell_type": "code",
   "execution_count": 18,
   "id": "087522ed",
   "metadata": {},
   "outputs": [],
   "source": [
    "#reading from csv file\n",
    "cases = spark.read.load('archive/case.csv', format='csv', sep=',', header='true', inferSchema='true')"
   ]
  },
  {
   "cell_type": "code",
   "execution_count": 23,
   "id": "bb893a61",
   "metadata": {},
   "outputs": [
    {
     "name": "stdout",
     "output_type": "stream",
     "text": [
      "+--------+--------+---------------+---------+\n",
      "| case_id|province|           city|confirmed|\n",
      "+--------+--------+---------------+---------+\n",
      "| 1000001|   Seoul|     Yongsan-gu|      139|\n",
      "| 1000002|   Seoul|      Gwanak-gu|      119|\n",
      "| 1000003|   Seoul|        Guro-gu|       95|\n",
      "| 1000004|   Seoul|   Yangcheon-gu|       43|\n",
      "| 1000005|   Seoul|      Dobong-gu|       43|\n",
      "| 1000006|   Seoul|        Guro-gu|       41|\n",
      "| 1000007|   Seoul|from other city|       36|\n",
      "| 1000008|   Seoul|  Dongdaemun-gu|       17|\n",
      "| 1000009|   Seoul|from other city|       25|\n",
      "| 1000010|   Seoul|      Gwanak-gu|       30|\n",
      "| 1000011|   Seoul|   Eunpyeong-gu|       14|\n",
      "| 1000012|   Seoul|   Seongdong-gu|       13|\n",
      "| 1000013|   Seoul|      Jongno-gu|       10|\n",
      "| 1000014|   Seoul|     Gangnam-gu|        7|\n",
      "| 1000015|   Seoul|        Jung-gu|        7|\n",
      "| 1000016|   Seoul|   Seodaemun-gu|        5|\n",
      "| 1000017|   Seoul|      Jongno-gu|        7|\n",
      "| 1000018|   Seoul|     Gangnam-gu|        6|\n",
      "| 1000019|   Seoul|from other city|        1|\n",
      "| 1000020|   Seoul|   Geumcheon-gu|        6|\n",
      "+--------+--------+---------------+---------+\n",
      "only showing top 20 rows\n",
      "\n"
     ]
    }
   ],
   "source": [
    "#selecting required columns\n",
    "cases = cases.select(' case_id','province', 'city', 'confirmed')\n",
    "cases.show()"
   ]
  },
  {
   "cell_type": "code",
   "execution_count": 24,
   "id": "c130e35a",
   "metadata": {},
   "outputs": [
    {
     "name": "stdout",
     "output_type": "stream",
     "text": [
      "+--------+-----------------+---------------+---------+\n",
      "| case_id|         province|           city|confirmed|\n",
      "+--------+-----------------+---------------+---------+\n",
      "| 1200001|            Daegu|         Nam-gu|     4511|\n",
      "| 1200009|            Daegu|              -|      917|\n",
      "| 1200010|            Daegu|              -|      747|\n",
      "| 6000001| Gyeongsangbuk-do|from other city|      566|\n",
      "| 2000020|      Gyeonggi-do|              -|      305|\n",
      "| 1000036|            Seoul|              -|      298|\n",
      "| 1200002|            Daegu|   Dalseong-gun|      196|\n",
      "| 6000012| Gyeongsangbuk-do|              -|      190|\n",
      "| 1000037|            Seoul|              -|      162|\n",
      "| 1000001|            Seoul|     Yongsan-gu|      139|\n",
      "| 6000013| Gyeongsangbuk-do|              -|      133|\n",
      "| 1200003|            Daegu|         Seo-gu|      124|\n",
      "| 1000002|            Seoul|      Gwanak-gu|      119|\n",
      "| 6000002| Gyeongsangbuk-do|   Cheongdo-gun|      119|\n",
      "| 4100001|Chungcheongnam-do|     Cheonan-si|      103|\n",
      "| 1200004|            Daegu|   Dalseong-gun|      101|\n",
      "| 1000038|            Seoul|              -|      100|\n",
      "| 1000003|            Seoul|        Guro-gu|       95|\n",
      "| 2000022|      Gyeonggi-do|              -|       84|\n",
      "| 1400005|          Incheon|              -|       68|\n",
      "+--------+-----------------+---------------+---------+\n",
      "only showing top 20 rows\n",
      "\n"
     ]
    }
   ],
   "source": [
    "#sorting\n",
    "from pyspark.sql import functions as F\n",
    "cases.sort(F.desc('confirmed')).show()"
   ]
  },
  {
   "cell_type": "code",
   "execution_count": null,
   "id": "eee306ea",
   "metadata": {},
   "outputs": [],
   "source": [
    "#cast function is used "
   ]
  }
 ],
 "metadata": {
  "kernelspec": {
   "display_name": "Python 3 (ipykernel)",
   "language": "python",
   "name": "python3"
  },
  "language_info": {
   "codemirror_mode": {
    "name": "ipython",
    "version": 3
   },
   "file_extension": ".py",
   "mimetype": "text/x-python",
   "name": "python",
   "nbconvert_exporter": "python",
   "pygments_lexer": "ipython3",
   "version": "3.9.10"
  }
 },
 "nbformat": 4,
 "nbformat_minor": 5
}
