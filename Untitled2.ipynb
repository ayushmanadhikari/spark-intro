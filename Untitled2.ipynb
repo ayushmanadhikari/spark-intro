{
 "cells": [
  {
   "cell_type": "code",
   "execution_count": 1,
   "id": "e0ccd0b4",
   "metadata": {},
   "outputs": [],
   "source": [
    "from pyspark.sql import SparkSession"
   ]
  },
  {
   "cell_type": "code",
   "execution_count": 2,
   "id": "4aa9c19d",
   "metadata": {},
   "outputs": [
    {
     "name": "stderr",
     "output_type": "stream",
     "text": [
      "22/06/23 08:57:44 WARN Utils: Your hostname, Ayushmans-MacBook-Air.local resolves to a loopback address: 127.0.0.1; using 192.168.1.68 instead (on interface en0)\n",
      "22/06/23 08:57:44 WARN Utils: Set SPARK_LOCAL_IP if you need to bind to another address\n",
      "Using Spark's default log4j profile: org/apache/spark/log4j-defaults.properties\n",
      "Setting default log level to \"WARN\".\n",
      "To adjust logging level use sc.setLogLevel(newLevel). For SparkR, use setLogLevel(newLevel).\n",
      "22/06/23 08:57:44 WARN NativeCodeLoader: Unable to load native-hadoop library for your platform... using builtin-java classes where applicable\n"
     ]
    }
   ],
   "source": [
    "spark = SparkSession.builder.appName('this').getOrCreate()"
   ]
  },
  {
   "cell_type": "code",
   "execution_count": 10,
   "id": "29b54450",
   "metadata": {},
   "outputs": [
    {
     "data": {
      "text/plain": [
       "['a', 'b', 'c']"
      ]
     },
     "execution_count": 10,
     "metadata": {},
     "output_type": "execute_result"
    }
   ],
   "source": [
    "rdd = spark.sparkContext.parallelize(['a', 'b', 'c'])\n",
    "rdd.collect()"
   ]
  },
  {
   "cell_type": "code",
   "execution_count": 13,
   "id": "41e54edf",
   "metadata": {},
   "outputs": [],
   "source": [
    "data = [('ayushman', 'adhikari', 'M'),\n",
    "       ('sanjib', 'udash', 'M')]\n",
    "schema = ['fname', 'lname', 'gender']"
   ]
  },
  {
   "cell_type": "code",
   "execution_count": 15,
   "id": "f599c91c",
   "metadata": {},
   "outputs": [
    {
     "name": "stdout",
     "output_type": "stream",
     "text": [
      "+--------+--------+------+\n",
      "|   fname|   lname|gender|\n",
      "+--------+--------+------+\n",
      "|ayushman|adhikari|     M|\n",
      "|  sanjib|   udash|     M|\n",
      "+--------+--------+------+\n",
      "\n"
     ]
    }
   ],
   "source": [
    "df = spark.createDataFrame(data=data, schema=schema)\n",
    "df.show()"
   ]
  },
  {
   "cell_type": "code",
   "execution_count": 18,
   "id": "76dd6c0a",
   "metadata": {},
   "outputs": [],
   "source": [
    "df.createTempView('df1_sql')"
   ]
  },
  {
   "cell_type": "code",
   "execution_count": 19,
   "id": "2d2f0e7d",
   "metadata": {},
   "outputs": [
    {
     "name": "stdout",
     "output_type": "stream",
     "text": [
      "+--------+--------+------+\n",
      "|   fname|   lname|gender|\n",
      "+--------+--------+------+\n",
      "|ayushman|adhikari|     M|\n",
      "|  sanjib|   udash|     M|\n",
      "+--------+--------+------+\n",
      "\n"
     ]
    }
   ],
   "source": [
    "df2 = spark.sql('select * from df1_sql')\n",
    "df2.show()"
   ]
  },
  {
   "cell_type": "code",
   "execution_count": null,
   "id": "3106271c",
   "metadata": {},
   "outputs": [],
   "source": []
  },
  {
   "cell_type": "code",
   "execution_count": 66,
   "id": "aab87a53",
   "metadata": {},
   "outputs": [],
   "source": [
    "text = 'my text123 is Longerest then mostlyApp12 ayushman adhikari'"
   ]
  },
  {
   "cell_type": "code",
   "execution_count": 73,
   "id": "84254907",
   "metadata": {},
   "outputs": [
    {
     "data": {
      "text/plain": [
       "'ayushman'"
      ]
     },
     "execution_count": 73,
     "metadata": {},
     "output_type": "execute_result"
    }
   ],
   "source": [
    "#interview problem\n",
    "import re\n",
    "\n",
    "splitted_text = text.split()\n",
    "\n",
    "#removes number from text in the input string\n",
    "def number_rem_func(s):\n",
    "    head = s.rstrip('0123456789')\n",
    "    return head \n",
    "\n",
    "new_string_without_numbers = []\n",
    "#removing number from text in the input string\n",
    "for s in splitted_text:\n",
    "    x = number_rem_func(s)\n",
    "    new_string_without_numbers.append(x)\n",
    "\n",
    "#joining spliited string\n",
    "joined_string = ' '.join(new_string_without_numbers)\n",
    "\n",
    "#splitting on occurence of upper character\n",
    "upper_split = [s for s in re.split(\"([A-Z][^A-Z]*)\", joined_string) if s]\n",
    "\n",
    "#joining spliited string\n",
    "joined_string2 = ' '.join(upper_split)\n",
    "#array of properly space splitted string\n",
    "final_split = joined_string2.split()\n",
    "\n",
    "#calcaulating length of individual elements in the array\n",
    "def find_longest_lower_char(space_split):\n",
    "    lower_char_arr = []\n",
    "    length = []\n",
    "    for s in space_split:\n",
    "        if s == s.lower():\n",
    "            lower_char_arr.append(s)\n",
    "            length.append(len(s))\n",
    "    result = lower_char_arr[length.index(max(length))]\n",
    "    return result\n",
    "\n",
    "\n",
    "find_longest_lower_char(final_split)\n"
   ]
  },
  {
   "cell_type": "code",
   "execution_count": 45,
   "id": "e158694a",
   "metadata": {},
   "outputs": [
    {
     "data": {
      "text/plain": [
       "1"
      ]
     },
     "execution_count": 45,
     "metadata": {},
     "output_type": "execute_result"
    }
   ],
   "source": [
    "a=[1,2,3]\n",
    "a.index(2)"
   ]
  },
  {
   "cell_type": "code",
   "execution_count": null,
   "id": "73fddba2",
   "metadata": {},
   "outputs": [],
   "source": []
  }
 ],
 "metadata": {
  "kernelspec": {
   "display_name": "Python 3 (ipykernel)",
   "language": "python",
   "name": "python3"
  },
  "language_info": {
   "codemirror_mode": {
    "name": "ipython",
    "version": 3
   },
   "file_extension": ".py",
   "mimetype": "text/x-python",
   "name": "python",
   "nbconvert_exporter": "python",
   "pygments_lexer": "ipython3",
   "version": "3.9.13"
  }
 },
 "nbformat": 4,
 "nbformat_minor": 5
}
