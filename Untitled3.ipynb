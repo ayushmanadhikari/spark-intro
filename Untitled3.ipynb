{
 "cells": [
  {
   "cell_type": "code",
   "execution_count": 1,
   "id": "b13fa92a",
   "metadata": {},
   "outputs": [],
   "source": [
    "from pyspark.sql import SparkSession"
   ]
  },
  {
   "cell_type": "code",
   "execution_count": 2,
   "id": "7754b324",
   "metadata": {},
   "outputs": [
    {
     "name": "stderr",
     "output_type": "stream",
     "text": [
      "22/07/21 09:10:58 WARN Utils: Your hostname, Ayushmans-MacBook-Air.local resolves to a loopback address: 127.0.0.1; using 192.168.1.66 instead (on interface en0)\n",
      "22/07/21 09:10:58 WARN Utils: Set SPARK_LOCAL_IP if you need to bind to another address\n",
      "Using Spark's default log4j profile: org/apache/spark/log4j-defaults.properties\n",
      "Setting default log level to \"WARN\".\n",
      "To adjust logging level use sc.setLogLevel(newLevel). For SparkR, use setLogLevel(newLevel).\n",
      "22/07/21 09:10:58 WARN NativeCodeLoader: Unable to load native-hadoop library for your platform... using builtin-java classes where applicable\n"
     ]
    }
   ],
   "source": [
    "spark = SparkSession.builder.appName('session_prac').getOrCreate()"
   ]
  },
  {
   "cell_type": "code",
   "execution_count": 7,
   "id": "6efab795",
   "metadata": {},
   "outputs": [
    {
     "name": "stdout",
     "output_type": "stream",
     "text": [
      "+-------+---------+------+\n",
      "|  Fname|    Lname|Gender|\n",
      "+-------+---------+------+\n",
      "|ayusman| adhikari|     M|\n",
      "| ashesh|bhattarai|     M|\n",
      "|  samir|   poudel|     M|\n",
      "+-------+---------+------+\n",
      "\n"
     ]
    }
   ],
   "source": [
    "data = [('ayusman', 'adhikari', 'M'),\n",
    "       ('ashesh', 'bhattarai', 'M'),\n",
    "       ('samir', 'poudel', 'M')]\n",
    "cols = ['Fname', 'Lname', 'Gender']\n",
    "df = spark.createDataFrame(data=data, schema=cols)\n",
    "df.show()\n"
   ]
  },
  {
   "cell_type": "code",
   "execution_count": 12,
   "id": "f13ea218",
   "metadata": {},
   "outputs": [
    {
     "name": "stdout",
     "output_type": "stream",
     "text": [
      "+-------+---------+\n",
      "|  Fname|    Lname|\n",
      "+-------+---------+\n",
      "|ayusman| adhikari|\n",
      "| ashesh|bhattarai|\n",
      "|  samir|   poudel|\n",
      "+-------+---------+\n",
      "\n"
     ]
    }
   ],
   "source": [
    "df.select('Fname', 'Lname').show()"
   ]
  },
  {
   "cell_type": "code",
   "execution_count": 24,
   "id": "32026e45",
   "metadata": {},
   "outputs": [
    {
     "name": "stdout",
     "output_type": "stream",
     "text": [
      "+-------+------+\n",
      "|  Fname|Gender|\n",
      "+-------+------+\n",
      "|ayusman|     M|\n",
      "| ashesh|     M|\n",
      "|  samir|     M|\n",
      "+-------+------+\n",
      "\n"
     ]
    }
   ],
   "source": [
    "df1 = df.select('Fname', 'Gender')\n",
    "df1.show()"
   ]
  },
  {
   "cell_type": "code",
   "execution_count": 25,
   "id": "4228e3ba",
   "metadata": {},
   "outputs": [
    {
     "name": "stdout",
     "output_type": "stream",
     "text": [
      "+-------+---------+------+\n",
      "|  Fname|    Lname|Gender|\n",
      "+-------+---------+------+\n",
      "|ayusman| adhikari|     M|\n",
      "| ashesh|bhattarai|     M|\n",
      "|  samir|   poudel|     M|\n",
      "+-------+---------+------+\n",
      "\n"
     ]
    }
   ],
   "source": [
    "df.show()"
   ]
  },
  {
   "cell_type": "code",
   "execution_count": 28,
   "id": "da8f9bdc",
   "metadata": {},
   "outputs": [
    {
     "name": "stdout",
     "output_type": "stream",
     "text": [
      "+-------+---------+------+\n",
      "|  Fname|    Lname|Gender|\n",
      "+-------+---------+------+\n",
      "|ayusman| adhikari|     M|\n",
      "| ashesh|bhattarai|     M|\n",
      "|  samir|   poudel|     M|\n",
      "+-------+---------+------+\n",
      "\n"
     ]
    }
   ],
   "source": [
    "df.createTempView('df_temp1')\n",
    "df2 = spark.sql('select * from df_temp')\n"
   ]
  },
  {
   "cell_type": "code",
   "execution_count": 52,
   "id": "6140444a",
   "metadata": {},
   "outputs": [],
   "source": [
    " df2 = spark.sql(\"select * from df_temp1\")"
   ]
  },
  {
   "cell_type": "code",
   "execution_count": 38,
   "id": "6b33c9cd",
   "metadata": {},
   "outputs": [
    {
     "name": "stdout",
     "output_type": "stream",
     "text": [
      "+-------+---------+------+\n",
      "|  Fname|    Lname|Gender|\n",
      "+-------+---------+------+\n",
      "|ayusman| adhikari|     M|\n",
      "| ashesh|bhattarai|     M|\n",
      "|  samir|   poudel|     M|\n",
      "+-------+---------+------+\n",
      "\n"
     ]
    }
   ],
   "source": [
    "df2.show()"
   ]
  },
  {
   "cell_type": "code",
   "execution_count": 79,
   "id": "f7aa0203",
   "metadata": {},
   "outputs": [],
   "source": [
    "df_new = spark.read.load('archive/Region.csv', format='csv', sep=',', header=True)"
   ]
  },
  {
   "cell_type": "code",
   "execution_count": null,
   "id": "faef884d",
   "metadata": {},
   "outputs": [],
   "source": []
  },
  {
   "cell_type": "code",
   "execution_count": null,
   "id": "73ed8835",
   "metadata": {},
   "outputs": [],
   "source": [
    "df.select(col(\"age\").cast('int').alias(\"age\"))\n"
   ]
  },
  {
   "cell_type": "code",
   "execution_count": 80,
   "id": "373b735f",
   "metadata": {},
   "outputs": [
    {
     "name": "stdout",
     "output_type": "stream",
     "text": [
      "+-----+--------+-------------+-----+\n",
      "| code|province|         city|ratio|\n",
      "+-----+--------+-------------+-----+\n",
      "|10000|   Seoul|        Seoul| 1.44|\n",
      "|10010|   Seoul|   Gangnam-gu| 4.18|\n",
      "|10020|   Seoul|  Gangdong-gu| 1.54|\n",
      "|10030|   Seoul|   Gangbuk-gu| 0.67|\n",
      "|10040|   Seoul|   Gangseo-gu| 1.17|\n",
      "|10050|   Seoul|    Gwanak-gu| 0.89|\n",
      "|10060|   Seoul|  Gwangjin-gu| 1.16|\n",
      "|10070|   Seoul|      Guro-gu|  1.0|\n",
      "|10080|   Seoul| Geumcheon-gu| 0.96|\n",
      "|10090|   Seoul|     Nowon-gu| 1.39|\n",
      "|10100|   Seoul|    Dobong-gu| 0.95|\n",
      "|10110|   Seoul|Dongdaemun-gu| 1.06|\n",
      "|10120|   Seoul|   Dongjak-gu| 1.17|\n",
      "|10130|   Seoul|      Mapo-gu| 1.83|\n",
      "|10140|   Seoul| Seodaemun-gu| 1.12|\n",
      "|10150|   Seoul|    Seocho-gu|  2.6|\n",
      "|10160|   Seoul| Seongdong-gu| 0.97|\n",
      "|10170|   Seoul|  Seongbuk-gu| 1.02|\n",
      "|10180|   Seoul|    Songpa-gu| 1.65|\n",
      "|10190|   Seoul| Yangcheon-gu| 2.26|\n",
      "+-----+--------+-------------+-----+\n",
      "only showing top 20 rows\n",
      "\n"
     ]
    }
   ],
   "source": [
    "df_new = df_new.selectExpr('code', 'province', 'city', 'cast(academy_ratio as float) ratio')\n",
    "df_new.show()"
   ]
  },
  {
   "cell_type": "code",
   "execution_count": 81,
   "id": "e6069124",
   "metadata": {},
   "outputs": [
    {
     "ename": "AnalysisException",
     "evalue": "Temporary view 'df_temp2' already exists",
     "output_type": "error",
     "traceback": [
      "\u001b[0;31m---------------------------------------------------------------------------\u001b[0m",
      "\u001b[0;31mAnalysisException\u001b[0m                         Traceback (most recent call last)",
      "Input \u001b[0;32mIn [81]\u001b[0m, in \u001b[0;36m<module>\u001b[0;34m\u001b[0m\n\u001b[0;32m----> 1\u001b[0m \u001b[43mdf_new\u001b[49m\u001b[38;5;241;43m.\u001b[39;49m\u001b[43mcreateTempView\u001b[49m\u001b[43m(\u001b[49m\u001b[38;5;124;43m'\u001b[39;49m\u001b[38;5;124;43mdf_temp2\u001b[39;49m\u001b[38;5;124;43m'\u001b[39;49m\u001b[43m)\u001b[49m\n",
      "File \u001b[0;32m/opt/homebrew/lib/python3.9/site-packages/pyspark/sql/dataframe.py:167\u001b[0m, in \u001b[0;36mDataFrame.createTempView\u001b[0;34m(self, name)\u001b[0m\n\u001b[1;32m    144\u001b[0m \u001b[38;5;28;01mdef\u001b[39;00m \u001b[38;5;21mcreateTempView\u001b[39m(\u001b[38;5;28mself\u001b[39m, name):\n\u001b[1;32m    145\u001b[0m     \u001b[38;5;124;03m\"\"\"Creates a local temporary view with this :class:`DataFrame`.\u001b[39;00m\n\u001b[1;32m    146\u001b[0m \n\u001b[1;32m    147\u001b[0m \u001b[38;5;124;03m    The lifetime of this temporary table is tied to the :class:`SparkSession`\u001b[39;00m\n\u001b[0;32m   (...)\u001b[0m\n\u001b[1;32m    165\u001b[0m \n\u001b[1;32m    166\u001b[0m \u001b[38;5;124;03m    \"\"\"\u001b[39;00m\n\u001b[0;32m--> 167\u001b[0m     \u001b[38;5;28;43mself\u001b[39;49m\u001b[38;5;241;43m.\u001b[39;49m\u001b[43m_jdf\u001b[49m\u001b[38;5;241;43m.\u001b[39;49m\u001b[43mcreateTempView\u001b[49m\u001b[43m(\u001b[49m\u001b[43mname\u001b[49m\u001b[43m)\u001b[49m\n",
      "File \u001b[0;32m/opt/homebrew/lib/python3.9/site-packages/py4j/java_gateway.py:1321\u001b[0m, in \u001b[0;36mJavaMember.__call__\u001b[0;34m(self, *args)\u001b[0m\n\u001b[1;32m   1315\u001b[0m command \u001b[38;5;241m=\u001b[39m proto\u001b[38;5;241m.\u001b[39mCALL_COMMAND_NAME \u001b[38;5;241m+\u001b[39m\\\n\u001b[1;32m   1316\u001b[0m     \u001b[38;5;28mself\u001b[39m\u001b[38;5;241m.\u001b[39mcommand_header \u001b[38;5;241m+\u001b[39m\\\n\u001b[1;32m   1317\u001b[0m     args_command \u001b[38;5;241m+\u001b[39m\\\n\u001b[1;32m   1318\u001b[0m     proto\u001b[38;5;241m.\u001b[39mEND_COMMAND_PART\n\u001b[1;32m   1320\u001b[0m answer \u001b[38;5;241m=\u001b[39m \u001b[38;5;28mself\u001b[39m\u001b[38;5;241m.\u001b[39mgateway_client\u001b[38;5;241m.\u001b[39msend_command(command)\n\u001b[0;32m-> 1321\u001b[0m return_value \u001b[38;5;241m=\u001b[39m \u001b[43mget_return_value\u001b[49m\u001b[43m(\u001b[49m\n\u001b[1;32m   1322\u001b[0m \u001b[43m    \u001b[49m\u001b[43manswer\u001b[49m\u001b[43m,\u001b[49m\u001b[43m \u001b[49m\u001b[38;5;28;43mself\u001b[39;49m\u001b[38;5;241;43m.\u001b[39;49m\u001b[43mgateway_client\u001b[49m\u001b[43m,\u001b[49m\u001b[43m \u001b[49m\u001b[38;5;28;43mself\u001b[39;49m\u001b[38;5;241;43m.\u001b[39;49m\u001b[43mtarget_id\u001b[49m\u001b[43m,\u001b[49m\u001b[43m \u001b[49m\u001b[38;5;28;43mself\u001b[39;49m\u001b[38;5;241;43m.\u001b[39;49m\u001b[43mname\u001b[49m\u001b[43m)\u001b[49m\n\u001b[1;32m   1324\u001b[0m \u001b[38;5;28;01mfor\u001b[39;00m temp_arg \u001b[38;5;129;01min\u001b[39;00m temp_args:\n\u001b[1;32m   1325\u001b[0m     temp_arg\u001b[38;5;241m.\u001b[39m_detach()\n",
      "File \u001b[0;32m/opt/homebrew/lib/python3.9/site-packages/pyspark/sql/utils.py:117\u001b[0m, in \u001b[0;36mcapture_sql_exception.<locals>.deco\u001b[0;34m(*a, **kw)\u001b[0m\n\u001b[1;32m    113\u001b[0m converted \u001b[38;5;241m=\u001b[39m convert_exception(e\u001b[38;5;241m.\u001b[39mjava_exception)\n\u001b[1;32m    114\u001b[0m \u001b[38;5;28;01mif\u001b[39;00m \u001b[38;5;129;01mnot\u001b[39;00m \u001b[38;5;28misinstance\u001b[39m(converted, UnknownException):\n\u001b[1;32m    115\u001b[0m     \u001b[38;5;66;03m# Hide where the exception came from that shows a non-Pythonic\u001b[39;00m\n\u001b[1;32m    116\u001b[0m     \u001b[38;5;66;03m# JVM exception message.\u001b[39;00m\n\u001b[0;32m--> 117\u001b[0m     \u001b[38;5;28;01mraise\u001b[39;00m converted \u001b[38;5;28;01mfrom\u001b[39;00m \u001b[38;5;28mNone\u001b[39m\n\u001b[1;32m    118\u001b[0m \u001b[38;5;28;01melse\u001b[39;00m:\n\u001b[1;32m    119\u001b[0m     \u001b[38;5;28;01mraise\u001b[39;00m\n",
      "\u001b[0;31mAnalysisException\u001b[0m: Temporary view 'df_temp2' already exists"
     ]
    }
   ],
   "source": [
    "df_new.createTempView('df_temp2')"
   ]
  },
  {
   "cell_type": "code",
   "execution_count": 82,
   "id": "ad9d3eb0",
   "metadata": {},
   "outputs": [
    {
     "name": "stdout",
     "output_type": "stream",
     "text": [
      "+-----+--------+-------------+-------------+\n",
      "| code|province|         city|academy_ratio|\n",
      "+-----+--------+-------------+-------------+\n",
      "|10000|   Seoul|        Seoul|         1.44|\n",
      "|10010|   Seoul|   Gangnam-gu|         4.18|\n",
      "|10020|   Seoul|  Gangdong-gu|         1.54|\n",
      "|10030|   Seoul|   Gangbuk-gu|         0.67|\n",
      "|10040|   Seoul|   Gangseo-gu|         1.17|\n",
      "|10050|   Seoul|    Gwanak-gu|         0.89|\n",
      "|10060|   Seoul|  Gwangjin-gu|         1.16|\n",
      "|10070|   Seoul|      Guro-gu|            1|\n",
      "|10080|   Seoul| Geumcheon-gu|         0.96|\n",
      "|10090|   Seoul|     Nowon-gu|         1.39|\n",
      "|10100|   Seoul|    Dobong-gu|         0.95|\n",
      "|10110|   Seoul|Dongdaemun-gu|         1.06|\n",
      "|10120|   Seoul|   Dongjak-gu|         1.17|\n",
      "|10130|   Seoul|      Mapo-gu|         1.83|\n",
      "|10140|   Seoul| Seodaemun-gu|         1.12|\n",
      "|10150|   Seoul|    Seocho-gu|          2.6|\n",
      "|10160|   Seoul| Seongdong-gu|         0.97|\n",
      "|10170|   Seoul|  Seongbuk-gu|         1.02|\n",
      "|10180|   Seoul|    Songpa-gu|         1.65|\n",
      "|10190|   Seoul| Yangcheon-gu|         2.26|\n",
      "+-----+--------+-------------+-------------+\n",
      "only showing top 20 rows\n",
      "\n"
     ]
    }
   ],
   "source": [
    "spark.sql(\"select * from df_temp2\").show()"
   ]
  },
  {
   "cell_type": "code",
   "execution_count": 83,
   "id": "024f333f",
   "metadata": {},
   "outputs": [
    {
     "name": "stdout",
     "output_type": "stream",
     "text": [
      "+--------------+------------------+\n",
      "|          city|        sum(ratio)|\n",
      "+--------------+------------------+\n",
      "|       Naju-si| 1.399999976158142|\n",
      "|    Gangnam-gu| 4.179999828338623|\n",
      "|     Songpa-gu| 1.649999976158142|\n",
      "|    Jangsu-gun|0.5799999833106995|\n",
      "|  Hapcheon-gun|0.7099999785423279|\n",
      "|   Bupyeong-gu|1.2699999809265137|\n",
      "|      Gimpo-si|1.7400000095367432|\n",
      "|    Cheonan-si| 1.909999966621399|\n",
      "|   Michuhol-gu|0.8999999761581421|\n",
      "|     Anyang-si|1.8600000143051147|\n",
      "|     Gwanak-gu|0.8899999856948853|\n",
      "|    Gijang-gun| 1.309999942779541|\n",
      "|     Icheon-si|1.7599999904632568|\n",
      "|     Boeun-gun|0.6700000166893005|\n",
      "|  Mungyeong-si|1.1799999475479126|\n",
      "|Yangpyeong-gun|0.7799999713897705|\n",
      "|     Sangju-si|1.0299999713897705|\n",
      "|    Dangjin-si|1.2000000476837158|\n",
      "|     Wando-gun|0.6499999761581421|\n",
      "|     Dalseo-gu|1.7200000286102295|\n",
      "+--------------+------------------+\n",
      "only showing top 20 rows\n",
      "\n"
     ]
    }
   ],
   "source": [
    "df_new.groupBy('city').sum('ratio').show()"
   ]
  },
  {
   "cell_type": "code",
   "execution_count": null,
   "id": "8437b67d",
   "metadata": {},
   "outputs": [],
   "source": []
  }
 ],
 "metadata": {
  "kernelspec": {
   "display_name": "Python 3 (ipykernel)",
   "language": "python",
   "name": "python3"
  },
  "language_info": {
   "codemirror_mode": {
    "name": "ipython",
    "version": 3
   },
   "file_extension": ".py",
   "mimetype": "text/x-python",
   "name": "python",
   "nbconvert_exporter": "python",
   "pygments_lexer": "ipython3",
   "version": "3.9.13"
  }
 },
 "nbformat": 4,
 "nbformat_minor": 5
}
